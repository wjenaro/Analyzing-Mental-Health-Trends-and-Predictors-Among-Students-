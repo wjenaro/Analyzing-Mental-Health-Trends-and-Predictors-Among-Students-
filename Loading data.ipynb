{
 "cells": [
  {
   "cell_type": "markdown",
   "metadata": {},
   "source": [
    "The first step Involved loading the data"
   ]
  },
  {
   "cell_type": "code",
   "execution_count": 5,
   "metadata": {},
   "outputs": [
    {
     "name": "stdout",
     "output_type": "stream",
     "text": [
      "File found: student_depression_dataset.csv\n"
     ]
    }
   ],
   "source": [
    "the aim of this code is to test- find out whether the data with the data can\n",
    "import os # Import the operating system module to interact with the file system\n",
    "\n",
    "file_path = 'student_depression_dataset.csv'\n",
    "\n",
    "if os.path.exists(file_path):\n",
    "    print(f\"File found: {file_path}\")\n",
    "else:\n",
    "    print(f\"File not found: {file_path}\")\n"
   ]
  },
  {
   "cell_type": "code",
   "execution_count": 3,
   "metadata": {},
   "outputs": [
    {
     "name": "stdout",
     "output_type": "stream",
     "text": [
      "File found: student_depression_dataset.csv\n",
      "DataFrame loaded successfully!\n",
      "   id  Gender  Age           City Profession  Academic Pressure  \\\n",
      "0   2    Male   33  Visakhapatnam    Student                  5   \n",
      "1   8  Female   24      Bangalore    Student                  2   \n",
      "2  26    Male   31       Srinagar    Student                  3   \n",
      "3  30  Female   28       Varanasi    Student                  3   \n",
      "4  32  Female   25         Jaipur    Student                  4   \n",
      "\n",
      "   Work Pressure  CGPA  Study Satisfaction  Job Satisfaction  \\\n",
      "0              0  8.97                   2                 0   \n",
      "1              0  5.90                   5                 0   \n",
      "2              0  7.03                   5                 0   \n",
      "3              0  5.59                   2                 0   \n",
      "4              0  8.13                   3                 0   \n",
      "\n",
      "        Sleep Duration Dietary Habits   Degree  \\\n",
      "0          '5-6 hours'        Healthy  B.Pharm   \n",
      "1          '5-6 hours'       Moderate      BSc   \n",
      "2  'Less than 5 hours'        Healthy       BA   \n",
      "3          '7-8 hours'       Moderate      BCA   \n",
      "4          '5-6 hours'       Moderate   M.Tech   \n",
      "\n",
      "  Have you ever had suicidal thoughts ?  Work/Study Hours Financial Stress  \\\n",
      "0                                   Yes                 3                1   \n",
      "1                                    No                 3                2   \n",
      "2                                    No                 9                1   \n",
      "3                                   Yes                 4                5   \n",
      "4                                   Yes                 1                1   \n",
      "\n",
      "  Family History of Mental Illness  Depression  \n",
      "0                               No           1  \n",
      "1                              Yes           0  \n",
      "2                              Yes           0  \n",
      "3                              Yes           1  \n",
      "4                               No           0  \n"
     ]
    }
   ],
   "source": [
    "import os\n",
    "import pandas as pd\n",
    "\n",
    "file_path = 'student_depression_dataset.csv'\n",
    "\n",
    "if os.path.exists(file_path):\n",
    "    print(f\"File found: {file_path}\")\n",
    "    # Load the CSV file into a pandas DataFrame\n",
    "    df = pd.read_csv(file_path)\n",
    "    print(\"DataFrame loaded successfully!\")\n",
    "    print(df.head())  # Display the first few rows of the DataFrame\n",
    "else:\n",
    "    print(f\"File not found: {file_path}\")"
   ]
  },
  {
   "cell_type": "code",
   "execution_count": null,
   "metadata": {},
   "outputs": [],
   "source": []
  }
 ],
 "metadata": {
  "kernelspec": {
   "display_name": "Python [conda env:base] *",
   "language": "python",
   "name": "conda-base-py"
  },
  "language_info": {
   "codemirror_mode": {
    "name": "ipython",
    "version": 3
   },
   "file_extension": ".py",
   "mimetype": "text/x-python",
   "name": "python",
   "nbconvert_exporter": "python",
   "pygments_lexer": "ipython3",
   "version": "3.12.7"
  }
 },
 "nbformat": 4,
 "nbformat_minor": 4
}
