{
 "cells": [
  {
   "cell_type": "markdown",
   "id": "524c61c9-bab2-436e-a1a1-f264e8b8aef1",
   "metadata": {},
   "source": [
    "The first step involves data loaing --\n",
    "The dataset is read from a CSV file into a Pandas DataFrame \n",
    "\n",
    "Why this step is important Important:\n",
    "Ensures all tools are available before analysis.\n",
    "\n",
    "Loads raw data into a structured format (DataFrame) for manipulation."
   ]
  },
  {
   "cell_type": "code",
   "execution_count": 13,
   "id": "2ab53e57-928c-449a-969a-ac09960b1eab",
   "metadata": {},
   "outputs": [
    {
     "name": "stdout",
     "output_type": "stream",
     "text": [
      "file student_depression_dataset.csv is found\n",
      "   id  Gender  Age           City Profession  Academic Pressure  \\\n",
      "0   2    Male   33  Visakhapatnam    Student                  5   \n",
      "1   8  Female   24      Bangalore    Student                  2   \n",
      "2  26    Male   31       Srinagar    Student                  3   \n",
      "3  30  Female   28       Varanasi    Student                  3   \n",
      "4  32  Female   25         Jaipur    Student                  4   \n",
      "\n",
      "   Work Pressure  CGPA  Study Satisfaction  Job Satisfaction  \\\n",
      "0              0  8.97                   2                 0   \n",
      "1              0  5.90                   5                 0   \n",
      "2              0  7.03                   5                 0   \n",
      "3              0  5.59                   2                 0   \n",
      "4              0  8.13                   3                 0   \n",
      "\n",
      "        Sleep Duration Dietary Habits   Degree  \\\n",
      "0          '5-6 hours'        Healthy  B.Pharm   \n",
      "1          '5-6 hours'       Moderate      BSc   \n",
      "2  'Less than 5 hours'        Healthy       BA   \n",
      "3          '7-8 hours'       Moderate      BCA   \n",
      "4          '5-6 hours'       Moderate   M.Tech   \n",
      "\n",
      "  Have you ever had suicidal thoughts ?  Work/Study Hours Financial Stress  \\\n",
      "0                                   Yes                 3                1   \n",
      "1                                    No                 3                2   \n",
      "2                                    No                 9                1   \n",
      "3                                   Yes                 4                5   \n",
      "4                                   Yes                 1                1   \n",
      "\n",
      "  Family History of Mental Illness  Depression  \n",
      "0                               No           1  \n",
      "1                              Yes           0  \n",
      "2                              Yes           0  \n",
      "3                              Yes           1  \n",
      "4                               No           0  \n"
     ]
    }
   ],
   "source": [
    "#start by importing operating system module to allow file operations\n",
    "import os\n",
    "import pandas as pd # this is a python library and it is needed for data analysis - it is what we used to access data from the CSV file\n",
    "\n",
    "file_path= 'student_depression_dataset.csv' # declare the file path\n",
    "\n",
    "\n",
    "if os.path.exists(file_path):\n",
    "    print(f\"file {file_path} is found\")\n",
    "    #if found- display at least first few data values \n",
    "    data_file=pd.read_csv(file_path)\n",
    "    #display\n",
    "    print(data_file.head())\n",
    "\n",
    "\n",
    "else:\n",
    "    print (f\"file {file_path} not found\")\n"
   ]
  },
  {
   "cell_type": "code",
   "execution_count": 15,
   "id": "7897c57b-8852-4f1d-b817-99c164cf922b",
   "metadata": {},
   "outputs": [
    {
     "ename": "IndentationError",
     "evalue": "unexpected indent (10187682.py, line 3)",
     "output_type": "error",
     "traceback": [
      "\u001b[1;36m  Cell \u001b[1;32mIn[15], line 3\u001b[1;36m\u001b[0m\n\u001b[1;33m    data_file=pd.read_csv(file_path)  # Read the CSV file into a pandas DataFrame\u001b[0m\n\u001b[1;37m    ^\u001b[0m\n\u001b[1;31mIndentationError\u001b[0m\u001b[1;31m:\u001b[0m unexpected indent\n"
     ]
    }
   ],
   "source": [
    "print(f\"file {file_path} is found\")  # Print confirmation message that the file exists\n",
    "    #if found- display at least first few data values \n",
    "    data_file=pd.read_csv(file_path)  # Read the CSV file into a pandas DataFrame\n",
    "    #display\n",
    "    print(data_file.head())  # Display the first 5 rows of the DataFrame to preview the data"
   ]
  },
  {
   "cell_type": "code",
   "execution_count": null,
   "id": "3ce24e1d-36ad-48ba-8a33-40889574baf0",
   "metadata": {},
   "outputs": [],
   "source": []
  }
 ],
 "metadata": {
  "kernelspec": {
   "display_name": "Python [conda env:base] *",
   "language": "python",
   "name": "conda-base-py"
  },
  "language_info": {
   "codemirror_mode": {
    "name": "ipython",
    "version": 3
   },
   "file_extension": ".py",
   "mimetype": "text/x-python",
   "name": "python",
   "nbconvert_exporter": "python",
   "pygments_lexer": "ipython3",
   "version": "3.12.7"
  }
 },
 "nbformat": 4,
 "nbformat_minor": 5
}
