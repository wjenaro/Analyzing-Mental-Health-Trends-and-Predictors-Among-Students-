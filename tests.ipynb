{
 "cells": [
  {
   "cell_type": "code",
   "execution_count": 16,
   "id": "b7a3f51a-4f32-4755-80f5-2807583eac03",
   "metadata": {},
   "outputs": [
    {
     "name": "stdout",
     "output_type": "stream",
     "text": [
      "C:\\Users\\G\\Desktop\\Code\\data analysis\n"
     ]
    }
   ],
   "source": [
    "import os\n",
    "print(os.getcwd())"
   ]
  },
  {
   "cell_type": "code",
   "execution_count": 18,
   "id": "b1ce1943-22f6-4bc5-aca4-8cdbca672e44",
   "metadata": {
    "scrolled": true
   },
   "outputs": [
    {
     "name": "stdout",
     "output_type": "stream",
     "text": [
      "Files in the current directory: ['.gitignore', '.qodo', 'Analyzing Global COVID-19 Data for Trend Insights', 'Analyzing Mental Health Trends and Predictors Among Students', 'hello.py']\n"
     ]
    }
   ],
   "source": [
    "import os\n",
    "\n",
    "# List all files in the current directory\n",
    "files_in_directory = os.listdir()\n",
    "\n",
    "# Display the files\n",
    "print(\"Files in the current directory:\", files_in_directory)\n"
   ]
  },
  {
   "cell_type": "code",
   "execution_count": 26,
   "id": "32200ad7-3c0f-485a-a324-043409af650f",
   "metadata": {},
   "outputs": [
    {
     "name": "stdout",
     "output_type": "stream",
     "text": [
      "Current working directory: C:\\Users\\G\\Desktop\\Code\n",
      "Files in the current directory: ['data analysis', 'my-website', 'static']\n",
      "Error: The file 'Analyzing Mental Health Trends and Predictors Among Students/student_depression_dataset.csv' was not found. Please check the file path.\n"
     ]
    }
   ],
   "source": [
    "import pandas as pd\n",
    "import os\n",
    "\n",
    "# Check the current working directory\n",
    "print(\"Current working directory:\", os.getcwd())\n",
    "\n",
    "# List files in the current directory\n",
    "files_in_directory = os.listdir()\n",
    "print(\"Files in the current directory:\", files_in_directory)\n",
    "\n",
    "# File path (adjust if necessary)\n",
    "file_path = 'Analyzing Mental Health Trends and Predictors Among Students/student_depression_dataset.csv'\n",
    "\n",
    "# Load the data\n",
    "try:\n",
    "    df = pd.read_csv(file_path)\n",
    "    # Display the first 5 rows of the data\n",
    "    df.head()\n",
    "except FileNotFoundError:\n",
    "    print(f\"Error: The file '{file_path}' was not found. Please check the file path.\")\n"
   ]
  },
  {
   "cell_type": "code",
   "execution_count": 24,
   "id": "bda0aae9-a658-4348-9100-1f0380c4ac8a",
   "metadata": {},
   "outputs": [
    {
     "name": "stdout",
     "output_type": "stream",
     "text": [
      "Files in the parent directory: ['data analysis', 'my-website', 'static']\n"
     ]
    }
   ],
   "source": [
    "import os\n",
    "\n",
    "# Go up one level (to the parent directory)\n",
    "os.chdir('..')\n",
    "\n",
    "# List all files in the current directory (which is now the parent directory)\n",
    "files_in_directory = os.listdir()\n",
    "\n",
    "# Display the files\n",
    "print(\"Files in the parent directory:\", files_in_directory)\n"
   ]
  },
  {
   "cell_type": "code",
   "execution_count": null,
   "id": "e870c205-8c8f-4d38-852c-d1b529b25d55",
   "metadata": {},
   "outputs": [],
   "source": []
  }
 ],
 "metadata": {
  "kernelspec": {
   "display_name": "Python [conda env:base] *",
   "language": "python",
   "name": "conda-base-py"
  },
  "language_info": {
   "codemirror_mode": {
    "name": "ipython",
    "version": 3
   },
   "file_extension": ".py",
   "mimetype": "text/x-python",
   "name": "python",
   "nbconvert_exporter": "python",
   "pygments_lexer": "ipython3",
   "version": "3.12.7"
  }
 },
 "nbformat": 4,
 "nbformat_minor": 5
}
