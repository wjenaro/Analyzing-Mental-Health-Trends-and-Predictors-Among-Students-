{
 "cells": [
  {
   "cell_type": "code",
   "execution_count": null,
   "id": "22204557-4f58-4bee-9fd0-b7beb70467c1",
   "metadata": {},
   "outputs": [],
   "source": []
  }
 ],
 "metadata": {
  "kernelspec": {
   "display_name": "",
   "name": ""
  },
  "language_info": {
   "name": ""
  }
 },
 "nbformat": 4,
 "nbformat_minor": 5
}
